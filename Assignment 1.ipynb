{
 "cells": [
  {
   "cell_type": "code",
   "execution_count": null,
   "id": "9c7fcf0c",
   "metadata": {},
   "outputs": [],
   "source": [
    "Q1. In the below elements which of them are values or an expression? eg:- values can be integer or string and expressions will be mathematical operators."
   ]
  },
  {
   "cell_type": "code",
   "execution_count": null,
   "id": "2a359450",
   "metadata": {},
   "outputs": [],
   "source": [
    "A1-\n",
    "''*'' - Expression\n",
    "'hello'- value\n",
    "''-87.8'- value\n",
    "''-'' - expression\n",
    "''/'' -expression\n",
    "''+'' - expression\n",
    "'6' -value"
   ]
  },
  {
   "cell_type": "code",
   "execution_count": null,
   "id": "285e4d4f",
   "metadata": {},
   "outputs": [],
   "source": [
    "Q2. What is the difference between string and variable?"
   ]
  },
  {
   "cell_type": "code",
   "execution_count": null,
   "id": "80728cfb",
   "metadata": {},
   "outputs": [],
   "source": [
    "A2-\n",
    "- Variable is where we can store or assign values to locate in memory.\n",
    "- string is the value assignment."
   ]
  },
  {
   "cell_type": "code",
   "execution_count": null,
   "id": "ccf8fda5",
   "metadata": {},
   "outputs": [],
   "source": [
    "Q3. Describe three different data types."
   ]
  },
  {
   "cell_type": "code",
   "execution_count": null,
   "id": "7893c9b3",
   "metadata": {},
   "outputs": [],
   "source": [
    "A3-\n",
    "-Three different types of database are-\n",
    "Numeric.\n",
    "Sequence Type\n",
    "Boolean."
   ]
  },
  {
   "cell_type": "code",
   "execution_count": null,
   "id": "1b6c176a",
   "metadata": {},
   "outputs": [],
   "source": [
    "Q4. What is an expression made up of? What do all expressions do?"
   ]
  },
  {
   "cell_type": "code",
   "execution_count": null,
   "id": "06d0488a",
   "metadata": {},
   "outputs": [],
   "source": [
    "A4-\n",
    "An expression is a combination of values, variables, operators, and calls to functions. An expression evaluates and display the result."
   ]
  },
  {
   "cell_type": "code",
   "execution_count": null,
   "id": "65d5434d",
   "metadata": {},
   "outputs": [],
   "source": [
    "Q5. This assignment statements, like spam = 10. What is the difference between an expression and a statement?"
   ]
  },
  {
   "cell_type": "code",
   "execution_count": null,
   "id": "0c3307e4",
   "metadata": {},
   "outputs": [],
   "source": [
    "A5-\n",
    "A statement is an instruction that the Python interpreter can execute. EX- If statement, while statement, for statement etc.\n",
    "An expression is a combination of values, variables, operators, and calls to functions. "
   ]
  },
  {
   "cell_type": "code",
   "execution_count": null,
   "id": "61a4ef75",
   "metadata": {},
   "outputs": [],
   "source": [
    "Q6. After running the following code, what does the variable bacon contain?\n",
    "bacon = 22\n",
    "bacon + 1"
   ]
  },
  {
   "cell_type": "code",
   "execution_count": null,
   "id": "c05ad55d",
   "metadata": {},
   "outputs": [],
   "source": [
    "A6-\n",
    "22"
   ]
  },
  {
   "cell_type": "code",
   "execution_count": null,
   "id": "1862b5c3",
   "metadata": {},
   "outputs": [],
   "source": [
    "Q7. What should the values of the following two terms be?\n",
    "'spam' + 'spamspam'\n",
    "'spam' * 3"
   ]
  },
  {
   "cell_type": "code",
   "execution_count": null,
   "id": "7de2c545",
   "metadata": {},
   "outputs": [],
   "source": [
    "A7-\n",
    "'spamspamspam'\n",
    "'spamspamspam'\n",
    "it is same"
   ]
  },
  {
   "cell_type": "code",
   "execution_count": null,
   "id": "07c68038",
   "metadata": {},
   "outputs": [],
   "source": [
    "Q8. Why is eggs a valid variable name while 100 is invalid?"
   ]
  },
  {
   "cell_type": "code",
   "execution_count": null,
   "id": "e4f4983c",
   "metadata": {},
   "outputs": [],
   "source": [
    "A8-\n",
    "Because we can't start giving variable an integer name. \n",
    "we should begin with, a string-like alphabet name then integer."
   ]
  },
  {
   "cell_type": "code",
   "execution_count": null,
   "id": "3aa097dc",
   "metadata": {},
   "outputs": [],
   "source": [
    "Q9. What three functions can be used to get the integer, floating-point number, or string version of a value?"
   ]
  },
  {
   "cell_type": "code",
   "execution_count": null,
   "id": "db2c92a1",
   "metadata": {},
   "outputs": [],
   "source": [
    "A9-\n",
    "str(), int(), float()"
   ]
  },
  {
   "cell_type": "code",
   "execution_count": null,
   "id": "bd3bd20c",
   "metadata": {},
   "outputs": [],
   "source": [
    "Q10. Why does this expression cause an error? How can you fix it?\n",
    "'I have eaten ' + 99 + ' burritos.'"
   ]
  },
  {
   "cell_type": "code",
   "execution_count": null,
   "id": "8660b58e",
   "metadata": {},
   "outputs": [],
   "source": [
    "A10-\n",
    "Because we can not concatenate integer and if we want to do then we have to do typecasting."
   ]
  }
 ],
 "metadata": {
  "kernelspec": {
   "display_name": "Python 3 (ipykernel)",
   "language": "python",
   "name": "python3"
  },
  "language_info": {
   "codemirror_mode": {
    "name": "ipython",
    "version": 3
   },
   "file_extension": ".py",
   "mimetype": "text/x-python",
   "name": "python",
   "nbconvert_exporter": "python",
   "pygments_lexer": "ipython3",
   "version": "3.9.7"
  }
 },
 "nbformat": 4,
 "nbformat_minor": 5
}
