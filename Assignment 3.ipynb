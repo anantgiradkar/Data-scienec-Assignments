{
 "cells": [
  {
   "cell_type": "code",
   "execution_count": null,
   "id": "17c86089",
   "metadata": {},
   "outputs": [],
   "source": [
    "1. Why are functions advantageous to have in your programs?\n",
    "-A function is a block of reusable code that is used to perform a specific action. The advantages of using functions are:\n",
    "1)Reducing duplication of code\n",
    "2)Decomposing complex problems into simpler pieces\n",
    "3)Improving clarity of the code\n",
    "4)Reuse of code\n",
    "5)Information hiding\n"
   ]
  },
  {
   "cell_type": "code",
   "execution_count": null,
   "id": "14bbf52f",
   "metadata": {},
   "outputs": [],
   "source": [
    "2. When does the code in a function run: when it's specified or when it's called?\n",
    "- A function is a block of code that only runs when it is called. "
   ]
  },
  {
   "cell_type": "code",
   "execution_count": null,
   "id": "8dd6b555",
   "metadata": {},
   "outputs": [],
   "source": [
    "3. What statement creates a function?\n",
    "-a function is created by using the def keyword."
   ]
  },
  {
   "cell_type": "code",
   "execution_count": null,
   "id": "0cb7f16e",
   "metadata": {},
   "outputs": [],
   "source": [
    "4. What is the difference between a function and a function call?\n",
    "- A function is procedure to achieve a particular result while function call is using this function to achive that task."
   ]
  },
  {
   "cell_type": "code",
   "execution_count": null,
   "id": "f620fb02",
   "metadata": {},
   "outputs": [],
   "source": [
    "5. How many global scopes are there in a Python program? How many local scopes?\n",
    "- There are 2 global scope and 2 local scope."
   ]
  },
  {
   "cell_type": "code",
   "execution_count": null,
   "id": "119d64f4",
   "metadata": {},
   "outputs": [],
   "source": [
    "6. What happens to variables in a local scope when the function call returns?\n",
    "-First of all local variables are destroyed as soon as you move away from that scope."
   ]
  },
  {
   "cell_type": "code",
   "execution_count": null,
   "id": "469eade0",
   "metadata": {},
   "outputs": [],
   "source": [
    "7. What is the concept of a return value? Is it possible to have a return value in an expression?\n",
    "-If you define a function with an explicit return statement that has an explicit return value, \n",
    "then you can use that return value in any expression: \n",
    "Since return_42 () returns a numeric value, you can use that value in a math expression or\n",
    "any other kind of expression in which the value has a logical or coherent meaning."
   ]
  },
  {
   "cell_type": "code",
   "execution_count": null,
   "id": "10b6fd4a",
   "metadata": {},
   "outputs": [],
   "source": [
    "8. If a function does not have a return statement, what is the return value of a call to that function?\n",
    "- If a function doesn't specify a return value, it returns None."
   ]
  },
  {
   "cell_type": "code",
   "execution_count": null,
   "id": "a1ade762",
   "metadata": {},
   "outputs": [],
   "source": [
    "9. How do you make a function variable refer to the global variable?\n",
    "- 1) Declare global variables inside function definition, otherwise the scope of variables in function is always local.\n",
    "2) To avoid \"variable is not defined\" error you can initiate them in the main code with some default value, e.g., images = None.\n",
    "3) Agree with previous answer, try to not use global variables."
   ]
  },
  {
   "cell_type": "code",
   "execution_count": null,
   "id": "afea605c",
   "metadata": {},
   "outputs": [],
   "source": [
    "10. What is the data type of None?\n",
    "- None type"
   ]
  },
  {
   "cell_type": "code",
   "execution_count": null,
   "id": "cc1f6f38",
   "metadata": {},
   "outputs": [],
   "source": [
    "11. What does the sentence import areallyourpetsnamederic do?\n",
    "- That import statement imports a module named areallyourpetsnamederic."
   ]
  },
  {
   "cell_type": "code",
   "execution_count": null,
   "id": "c8b4b3a5",
   "metadata": {},
   "outputs": [],
   "source": [
    "12. If you had a bacon() feature in a spam module, what would you call it after importing spam?\n",
    "-If we have bacon () funtion in spam module then first we need to import the module and then we need to import the funtion too.\n",
    "from spam import bacon This above code is used to import funtions from given module. \n",
    "And then we can use the imported funtion for our own utilities."
   ]
  },
  {
   "cell_type": "code",
   "execution_count": null,
   "id": "998c3b9d",
   "metadata": {},
   "outputs": [],
   "source": [
    "13. What can you do to save a programme from crashing if it encounters an error?\n",
    "- Use try and except clause. "
   ]
  },
  {
   "cell_type": "code",
   "execution_count": null,
   "id": "b4c6192f",
   "metadata": {},
   "outputs": [],
   "source": [
    "14. What is the purpose of the try clause? What is the purpose of the except clause?\n",
    "-To handle exceptions"
   ]
  }
 ],
 "metadata": {
  "kernelspec": {
   "display_name": "Python 3 (ipykernel)",
   "language": "python",
   "name": "python3"
  },
  "language_info": {
   "codemirror_mode": {
    "name": "ipython",
    "version": 3
   },
   "file_extension": ".py",
   "mimetype": "text/x-python",
   "name": "python",
   "nbconvert_exporter": "python",
   "pygments_lexer": "ipython3",
   "version": "3.9.7"
  }
 },
 "nbformat": 4,
 "nbformat_minor": 5
}
