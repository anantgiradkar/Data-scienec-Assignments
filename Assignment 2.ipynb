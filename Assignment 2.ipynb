{
 "cells": [
  {
   "cell_type": "code",
   "execution_count": null,
   "id": "37ab2c37",
   "metadata": {},
   "outputs": [],
   "source": [
    "1.What are the two values of the Boolean data type? How do you write them?\n",
    "A- TRUE and FALSE are the two boolean data type. and for TRUE we can write 1 and for FALSE 0."
   ]
  },
  {
   "cell_type": "code",
   "execution_count": null,
   "id": "5627a1bf",
   "metadata": {},
   "outputs": [],
   "source": [
    "2. What are the three different types of Boolean operators?\n",
    "A- three types of boolean operators are AND, OR, NOT."
   ]
  },
  {
   "cell_type": "code",
   "execution_count": null,
   "id": "f122d2b6",
   "metadata": {},
   "outputs": [],
   "source": [
    "3. Make a list of each Boolean operator's truth tables\n",
    "(i.e. every possible combination of Boolean values for the operator and what it evaluate).\n",
    "A-     P       Q      P AND Q\n",
    "       T       T         T\n",
    "       T       F         F\n",
    "       F       T         F\n",
    "       F       F         F\n",
    "\n",
    "        P      Q      P OR Q\n",
    "        T      T         T\n",
    "        T      F         T\n",
    "        F      T         T\n",
    "        F       F        F\n",
    "        \n",
    "        P       Q      P OR Q\n",
    "        T       T         F\n",
    "        T       F         F\n",
    "        F       T         F\n",
    "        F       F         T"
   ]
  },
  {
   "cell_type": "code",
   "execution_count": null,
   "id": "dbb8b310",
   "metadata": {},
   "outputs": [],
   "source": [
    "4. What are the values of the following expressions?\n",
    "(5 > 4) and (3 == 5)=FALSE\n",
    "not (5 > 4)=FALSE\n",
    "(5 > 4) or (3 == 5)=TRUE\n",
    "not ((5 > 4) or (3 == 5))=FALSE\n",
    "(True and True) and (True == False)=FALSE\n",
    "(not False) or (not True)=TRUE\n"
   ]
  },
  {
   "cell_type": "code",
   "execution_count": null,
   "id": "81f63648",
   "metadata": {},
   "outputs": [],
   "source": [
    "5. What are the six comparison operators?\n",
    "A- 1)equal to,= \n",
    "   2)not equal to, !=\n",
    "   3)greater than, >\n",
    "   4)greater than or equal to, >=\n",
    "   5)less than, <\n",
    "   6)less than or equal to <="
   ]
  },
  {
   "cell_type": "code",
   "execution_count": null,
   "id": "60f68e8d",
   "metadata": {},
   "outputs": [],
   "source": [
    "6. How do you tell the difference between the equal to and assignment operators?\n",
    "Describe a condition and when you would use one.\n",
    "A- = is equal to mean a=5 or b=10, it is used to assign value.\n",
    "   and assignment operator is == which means a==b, 5==5 which will return TRUE. it is use to campare."
   ]
  },
  {
   "cell_type": "code",
   "execution_count": null,
   "id": "a8e74aa7",
   "metadata": {},
   "outputs": [],
   "source": [
    "7. Identify the three blocks in this code:\n",
    "spam = 0\n",
    "if spam == 10:\n",
    "print('eggs')\n",
    "if spam > 5:\n",
    "print('bacon')\n",
    "else:\n",
    "print('ham')\n",
    "print('spam')\n",
    "print('spam')\n",
    "A- The three blocks are everything inside the if statement and the lines print('bacon') and print('ham')."
   ]
  },
  {
   "cell_type": "code",
   "execution_count": null,
   "id": "08dbcb0b",
   "metadata": {},
   "outputs": [],
   "source": [
    "8. Write code that prints Hello if 1 is stored in spam, prints Howdy if 2 is stored in spam, \n",
    "and prints Greetings! if anything else is stored in spam."
   ]
  },
  {
   "cell_type": "code",
   "execution_count": null,
   "id": "9ef84e29",
   "metadata": {},
   "outputs": [],
   "source": [
    "spam = int(input())\n",
    "if spam==1:\n",
    "    print(\"Hello\")\n",
    "elif spam==2:\n",
    "    print(\"Howdy\")\n",
    "else:\n",
    "    print(\"Greetings\")"
   ]
  },
  {
   "cell_type": "code",
   "execution_count": null,
   "id": "aeee9baf",
   "metadata": {},
   "outputs": [],
   "source": [
    "9.If your programme is stuck in an endless loop, what keys you’ll press?\n",
    "A- CTR+c"
   ]
  },
  {
   "cell_type": "code",
   "execution_count": null,
   "id": "21978d8f",
   "metadata": {},
   "outputs": [],
   "source": [
    "10. How can you tell the difference between break and continue?\n",
    "A- The break statement will move the execution outside and just after a loop. \n",
    "The continue statement will move the execution to the start of the loop."
   ]
  },
  {
   "cell_type": "code",
   "execution_count": null,
   "id": "4c500912",
   "metadata": {},
   "outputs": [],
   "source": [
    "11. In a for loop, what is the difference between range(10), range(0, 10), and range(0, 10, 1)?\n",
    "A- This all are same, they will call from 1 excluding 10,"
   ]
  },
  {
   "cell_type": "code",
   "execution_count": 2,
   "id": "aa00d84d",
   "metadata": {},
   "outputs": [
    {
     "name": "stdout",
     "output_type": "stream",
     "text": [
      "Numbers from 1 to 10:\n",
      "1 2 3 4 5 6 7 8 9 10 "
     ]
    }
   ],
   "source": [
    "#12. Write a short program that prints the numbers 1 to 10 using a for loop.\n",
    "#Then write an equivalent program that prints the numbers 1 to 10 using a while loop.\n",
    "\n",
    "#for i in range(11):\n",
    "    #print(i)\n",
    "    \n",
    "print('Numbers from 1 to 10:')\n",
    "n = 1\n",
    "while n <= 10:\n",
    "   print(n, end=' ')\n",
    "   n = n+1"
   ]
  },
  {
   "cell_type": "code",
   "execution_count": 4,
   "id": "739cd5ba",
   "metadata": {},
   "outputs": [
    {
     "name": "stdout",
     "output_type": "stream",
     "text": [
      "1\n",
      "2\n",
      "3\n",
      "4\n",
      "5\n",
      "6\n",
      "7\n",
      "8\n",
      "9\n",
      "10\n"
     ]
    }
   ],
   "source": [
    "for i in range(1,11):\n",
    "    print(i)"
   ]
  },
  {
   "cell_type": "code",
   "execution_count": null,
   "id": "0d90e35c",
   "metadata": {},
   "outputs": [],
   "source": [
    "13. If you had a function named bacon() inside a module named spam, how would you call it after importing spam?\n",
    "import spam\n",
    "a=spam.bacon()"
   ]
  }
 ],
 "metadata": {
  "kernelspec": {
   "display_name": "Python 3 (ipykernel)",
   "language": "python",
   "name": "python3"
  },
  "language_info": {
   "codemirror_mode": {
    "name": "ipython",
    "version": 3
   },
   "file_extension": ".py",
   "mimetype": "text/x-python",
   "name": "python",
   "nbconvert_exporter": "python",
   "pygments_lexer": "ipython3",
   "version": "3.9.7"
  }
 },
 "nbformat": 4,
 "nbformat_minor": 5
}
